{
 "cells": [
  {
   "cell_type": "markdown",
   "metadata": {},
   "source": [
    "## Billboard crossing problem\n",
    "### Author: Zhiji Ding\n",
    "### Data preparation"
   ]
  },
  {
   "cell_type": "code",
   "execution_count": 1,
   "metadata": {},
   "outputs": [
    {
     "data": {
      "text/html": [
       "<div>\n",
       "<style scoped>\n",
       "    .dataframe tbody tr th:only-of-type {\n",
       "        vertical-align: middle;\n",
       "    }\n",
       "\n",
       "    .dataframe tbody tr th {\n",
       "        vertical-align: top;\n",
       "    }\n",
       "\n",
       "    .dataframe thead th {\n",
       "        text-align: right;\n",
       "    }\n",
       "</style>\n",
       "<table border=\"1\" class=\"dataframe\">\n",
       "  <thead>\n",
       "    <tr style=\"text-align: right;\">\n",
       "      <th></th>\n",
       "      <th>lat</th>\n",
       "      <th>long</th>\n",
       "      <th>event_ts</th>\n",
       "      <th>poi_lat</th>\n",
       "      <th>poi_long</th>\n",
       "      <th>poi_name</th>\n",
       "      <th>poi_sequence</th>\n",
       "      <th>device_id</th>\n",
       "    </tr>\n",
       "  </thead>\n",
       "  <tbody>\n",
       "    <tr>\n",
       "      <th>0</th>\n",
       "      <td>49.031128</td>\n",
       "      <td>-122.834470</td>\n",
       "      <td>2018-10-01 17:38:20 UTC</td>\n",
       "      <td>49.031193</td>\n",
       "      <td>-122.829585</td>\n",
       "      <td>7_1</td>\n",
       "      <td>-1</td>\n",
       "      <td>0</td>\n",
       "    </tr>\n",
       "    <tr>\n",
       "      <th>1</th>\n",
       "      <td>49.031250</td>\n",
       "      <td>-122.830660</td>\n",
       "      <td>2018-10-01 17:38:41 UTC</td>\n",
       "      <td>49.031193</td>\n",
       "      <td>-122.829585</td>\n",
       "      <td>7_1</td>\n",
       "      <td>-1</td>\n",
       "      <td>0</td>\n",
       "    </tr>\n",
       "    <tr>\n",
       "      <th>2</th>\n",
       "      <td>49.031250</td>\n",
       "      <td>-122.830660</td>\n",
       "      <td>2018-10-01 17:38:42 UTC</td>\n",
       "      <td>49.031193</td>\n",
       "      <td>-122.829585</td>\n",
       "      <td>7_1</td>\n",
       "      <td>-1</td>\n",
       "      <td>0</td>\n",
       "    </tr>\n",
       "    <tr>\n",
       "      <th>3</th>\n",
       "      <td>49.031250</td>\n",
       "      <td>-122.830605</td>\n",
       "      <td>2018-10-01 17:38:44 UTC</td>\n",
       "      <td>49.031193</td>\n",
       "      <td>-122.829585</td>\n",
       "      <td>7_1</td>\n",
       "      <td>-1</td>\n",
       "      <td>0</td>\n",
       "    </tr>\n",
       "    <tr>\n",
       "      <th>4</th>\n",
       "      <td>49.031250</td>\n",
       "      <td>-122.829180</td>\n",
       "      <td>2018-10-01 17:38:49 UTC</td>\n",
       "      <td>49.031193</td>\n",
       "      <td>-122.829585</td>\n",
       "      <td>7_1</td>\n",
       "      <td>-1</td>\n",
       "      <td>0</td>\n",
       "    </tr>\n",
       "  </tbody>\n",
       "</table>\n",
       "</div>"
      ],
      "text/plain": [
       "         lat        long                 event_ts    poi_lat    poi_long  \\\n",
       "0  49.031128 -122.834470  2018-10-01 17:38:20 UTC  49.031193 -122.829585   \n",
       "1  49.031250 -122.830660  2018-10-01 17:38:41 UTC  49.031193 -122.829585   \n",
       "2  49.031250 -122.830660  2018-10-01 17:38:42 UTC  49.031193 -122.829585   \n",
       "3  49.031250 -122.830605  2018-10-01 17:38:44 UTC  49.031193 -122.829585   \n",
       "4  49.031250 -122.829180  2018-10-01 17:38:49 UTC  49.031193 -122.829585   \n",
       "\n",
       "  poi_name  poi_sequence  device_id  \n",
       "0      7_1            -1          0  \n",
       "1      7_1            -1          0  \n",
       "2      7_1            -1          0  \n",
       "3      7_1            -1          0  \n",
       "4      7_1            -1          0  "
      ]
     },
     "execution_count": 1,
     "metadata": {},
     "output_type": "execute_result"
    }
   ],
   "source": [
    "import pandas as pd\n",
    "import numpy as np\n",
    "df=pd.read_csv('/Users/jimmyding/Downloads/device_road_section_sample.csv')\n",
    "df=df.sort_values(by=['device_id','event_ts'])\n",
    "df.reset_index(drop=True, inplace=True)\n",
    "df.head()"
   ]
  },
  {
   "cell_type": "code",
   "execution_count": 2,
   "metadata": {},
   "outputs": [
    {
     "data": {
      "text/plain": [
       "False"
      ]
     },
     "execution_count": 2,
     "metadata": {},
     "output_type": "execute_result"
    }
   ],
   "source": [
    "df.isnull().any().any()"
   ]
  },
  {
   "cell_type": "code",
   "execution_count": 3,
   "metadata": {},
   "outputs": [
    {
     "data": {
      "text/plain": [
       "False"
      ]
     },
     "execution_count": 3,
     "metadata": {},
     "output_type": "execute_result"
    }
   ],
   "source": [
    "df.isna().any().any()"
   ]
  },
  {
   "cell_type": "code",
   "execution_count": 6,
   "metadata": {},
   "outputs": [],
   "source": [
    "# create groupby object for iteration over all the devices\n",
    "device_group=df.groupby('device_id')\n"
   ]
  },
  {
   "cell_type": "code",
   "execution_count": 7,
   "metadata": {},
   "outputs": [],
   "source": [
    "# define function to transform the dataframe into callable form.\n",
    "\n",
    "import utm\n",
    "\n",
    "def create_count(df):\n",
    "\n",
    "# calculate time interval between each read\n",
    "    df['time_interval']=pd.to_datetime(df['event_ts']).diff()\n",
    "\n",
    "# calculate distance between each read\n",
    "    \n",
    "    try:\n",
    "        for i, row in df.iterrows():\n",
    "            df.loc[i+1, 'distance'] = utm.from_latlon(df['lat'][i],df['long'][i])[0] - \\\n",
    "            utm.from_latlon(df['lat'][i+1],df['long'][i+1])[0]\n",
    "    except:\n",
    "        ValueError\n",
    "\n",
    "# replace na value\n",
    "    df['time_interval'].fillna(pd.Timedelta(seconds=0), inplace=True)\n",
    "    df['distance'].fillna(0,inplace=True)\n",
    "\n",
    "\n",
    "# subset sequences only\n",
    "    df_subset=df.loc[(df['poi_sequence'] != df['poi_sequence'].shift(-1)) | \\\n",
    "                   (df['poi_sequence'] != df['poi_sequence'].shift(1)) | \\\n",
    "                   (df['poi_sequence']==0)]\n",
    "    df_subset.reset_index(inplace=True)\n",
    "    \n",
    "# create new dataframe to store data    \n",
    "    ct=pd.DataFrame(columns=['sequence','time_spent','time_of_day','distance','velocity'])\n",
    "    n=0   # index of each sequence\n",
    "    ct.loc[n,'sequence']=[]\n",
    "    ct.loc[n,'time_spent']=[]\n",
    "    ct.loc[n,'time_of_day']=[]\n",
    "    ct.loc[n,'distance']=[]\n",
    "    for i in range(0,len(df_subset)-1):\n",
    "        if df_subset.loc[i,'time_interval'].total_seconds()< 7200:    # A traffic jam or lunch break of up to 2 hours is assumed acceptable.\n",
    "            ct.loc[n,'sequence'].append(df_subset.loc[i,'poi_sequence'])  # create each board crossing sequence into lists.\n",
    "            ct.loc[n,'time_spent'].append(df_subset.loc[i,'time_interval'].total_seconds()) # store time interval into lists.\n",
    "            ct.loc[n,'time_of_day'].append(df_subset.loc[i,'event_ts'])   # store time of the sequence.\n",
    "            ct.loc[n,'distance'].append(df_subset.loc[i,'distance'])      # store distance\n",
    "# decide when to stop a sequence        \n",
    "        if (df_subset.loc[i+1,'index'] - df_subset.loc[i,'index']>1) | \\\n",
    "        (df_subset.loc[i,'time_interval'].total_seconds() >= 7200) |\\\n",
    "        ((df_subset.loc[i+1,'poi_sequence']==df_subset.loc[i,'poi_sequence']) & \\\n",
    "        df_subset.loc[i,'poi_sequence']!=0):\n",
    "            ct.loc[n,'time_spent']=sum(ct.loc[n,'time_spent'][1:])\n",
    "            ct.loc[n,'distance']=sum(ct.loc[n,'distance'][1:])\n",
    "            ct.loc[n,'velocity']=ct.loc[n,'distance']/(ct.loc[n,'time_spent']+0.00001)*3.6  # calculation of velocity for Q3\n",
    "            n=n+1\n",
    "            ct.loc[n,'sequence']=[]\n",
    "            ct.loc[n,'time_spent']=[]\n",
    "            ct.loc[n,'time_of_day']=[]\n",
    "            ct.loc[n,'distance']=[]\n",
    "    ct = ct[ct['time_spent']!=0]\n",
    "    ct= ct.iloc[:-1,:]  # remove the last row of empty list\n",
    "    \n",
    "    for i, row in ct.iterrows():\n",
    "        ct.loc[i,'time_of_day']=[ct.loc[i,'time_of_day'][0],ct.loc[i,'time_of_day'][-1]] # add starting/ending time of the sequence\n",
    "        if row['sequence'][-1]-row['sequence'][0] >0:  # determine direction of driving\n",
    "            ct.loc[i,'direction']='E'\n",
    "        else:\n",
    "            ct.loc[i,'direction']='W'\n",
    "    return ct\n"
   ]
  },
  {
   "cell_type": "code",
   "execution_count": 8,
   "metadata": {},
   "outputs": [
    {
     "data": {
      "text/html": [
       "<div>\n",
       "<style scoped>\n",
       "    .dataframe tbody tr th:only-of-type {\n",
       "        vertical-align: middle;\n",
       "    }\n",
       "\n",
       "    .dataframe tbody tr th {\n",
       "        vertical-align: top;\n",
       "    }\n",
       "\n",
       "    .dataframe thead th {\n",
       "        text-align: right;\n",
       "    }\n",
       "</style>\n",
       "<table border=\"1\" class=\"dataframe\">\n",
       "  <thead>\n",
       "    <tr style=\"text-align: right;\">\n",
       "      <th></th>\n",
       "      <th>device_id</th>\n",
       "      <th>direction</th>\n",
       "      <th>distance</th>\n",
       "      <th>sequence</th>\n",
       "      <th>time_of_day</th>\n",
       "      <th>time_spent</th>\n",
       "      <th>velocity</th>\n",
       "    </tr>\n",
       "  </thead>\n",
       "  <tbody>\n",
       "    <tr>\n",
       "      <th>0</th>\n",
       "      <td>0</td>\n",
       "      <td>E</td>\n",
       "      <td>-369.846</td>\n",
       "      <td>[-1, 1]</td>\n",
       "      <td>[2018-10-01 17:39:00 UTC, 2018-10-01 17:39:17 ...</td>\n",
       "      <td>17</td>\n",
       "      <td>-78.3203</td>\n",
       "    </tr>\n",
       "    <tr>\n",
       "      <th>1</th>\n",
       "      <td>0</td>\n",
       "      <td>W</td>\n",
       "      <td>353.789</td>\n",
       "      <td>[1, -1]</td>\n",
       "      <td>[2018-10-01 17:56:54 UTC, 2018-10-01 17:57:09 ...</td>\n",
       "      <td>15</td>\n",
       "      <td>84.9092</td>\n",
       "    </tr>\n",
       "    <tr>\n",
       "      <th>2</th>\n",
       "      <td>0</td>\n",
       "      <td>E</td>\n",
       "      <td>-544.586</td>\n",
       "      <td>[-1, 1]</td>\n",
       "      <td>[2018-10-02 17:35:42 UTC, 2018-10-02 17:36:08 ...</td>\n",
       "      <td>26</td>\n",
       "      <td>-75.4042</td>\n",
       "    </tr>\n",
       "    <tr>\n",
       "      <th>3</th>\n",
       "      <td>0</td>\n",
       "      <td>W</td>\n",
       "      <td>1061.39</td>\n",
       "      <td>[1, 0, -1]</td>\n",
       "      <td>[2018-10-02 18:12:08 UTC, 2018-10-02 18:13:25 ...</td>\n",
       "      <td>77</td>\n",
       "      <td>49.6234</td>\n",
       "    </tr>\n",
       "    <tr>\n",
       "      <th>4</th>\n",
       "      <td>0</td>\n",
       "      <td>E</td>\n",
       "      <td>-173.231</td>\n",
       "      <td>[-1, 1]</td>\n",
       "      <td>[2018-10-04 23:55:38 UTC, 2018-10-04 23:55:50 ...</td>\n",
       "      <td>12</td>\n",
       "      <td>-51.9693</td>\n",
       "    </tr>\n",
       "  </tbody>\n",
       "</table>\n",
       "</div>"
      ],
      "text/plain": [
       "  device_id direction distance    sequence  \\\n",
       "0         0         E -369.846     [-1, 1]   \n",
       "1         0         W  353.789     [1, -1]   \n",
       "2         0         E -544.586     [-1, 1]   \n",
       "3         0         W  1061.39  [1, 0, -1]   \n",
       "4         0         E -173.231     [-1, 1]   \n",
       "\n",
       "                                         time_of_day time_spent velocity  \n",
       "0  [2018-10-01 17:39:00 UTC, 2018-10-01 17:39:17 ...         17 -78.3203  \n",
       "1  [2018-10-01 17:56:54 UTC, 2018-10-01 17:57:09 ...         15  84.9092  \n",
       "2  [2018-10-02 17:35:42 UTC, 2018-10-02 17:36:08 ...         26 -75.4042  \n",
       "3  [2018-10-02 18:12:08 UTC, 2018-10-02 18:13:25 ...         77  49.6234  \n",
       "4  [2018-10-04 23:55:38 UTC, 2018-10-04 23:55:50 ...         12 -51.9693  "
      ]
     },
     "execution_count": 8,
     "metadata": {},
     "output_type": "execute_result"
    }
   ],
   "source": [
    "pd.set_option('mode.chained_assignment', None)\n",
    "dfcount=pd.DataFrame(columns=['sequence','time_spent','time_of_day','direction','device_id'])\n",
    "\n",
    "for i in range(len(device_group)):    \n",
    "    df_group=device_group.get_group(i)    \n",
    "    df_count=create_count(df_group)\n",
    "    df_count['device_id']=i\n",
    "    dfcount=pd.concat([dfcount,df_count],ignore_index=True, sort=True)\n",
    "    \n",
    "dfcount.head(5)  \n"
   ]
  },
  {
   "cell_type": "markdown",
   "metadata": {},
   "source": [
    "# Q1\n",
    "## a)"
   ]
  },
  {
   "cell_type": "code",
   "execution_count": 9,
   "metadata": {},
   "outputs": [
    {
     "data": {
      "text/plain": [
       "direction\n",
       "E    1536\n",
       "W    1131\n",
       "Name: device_id, dtype: int64"
      ]
     },
     "execution_count": 9,
     "metadata": {},
     "output_type": "execute_result"
    }
   ],
   "source": [
    "# Total number of trips\n",
    "dfcount.groupby(['direction'])['device_id'].count()"
   ]
  },
  {
   "cell_type": "code",
   "execution_count": 10,
   "metadata": {},
   "outputs": [
    {
     "data": {
      "text/plain": [
       "direction\n",
       "E    416\n",
       "W    294\n",
       "Name: device_id, dtype: int64"
      ]
     },
     "execution_count": 10,
     "metadata": {},
     "output_type": "execute_result"
    }
   ],
   "source": [
    "# Total number of devices\n",
    "dfcount.groupby(['direction'])['device_id'].nunique()"
   ]
  },
  {
   "cell_type": "markdown",
   "metadata": {},
   "source": [
    "## b)"
   ]
  },
  {
   "cell_type": "code",
   "execution_count": 11,
   "metadata": {},
   "outputs": [
    {
     "name": "stdout",
     "output_type": "stream",
     "text": [
      "Average #trips per device travelling eastwards: 3.6923076923076925\n",
      "Average #trips per device travelling westwards: 3.8469387755102042\n"
     ]
    }
   ],
   "source": [
    "print('Average #trips per device travelling eastwards:', 1536/416)\n",
    "print('Average #trips per device travelling westwards:', 1131/294)"
   ]
  },
  {
   "cell_type": "code",
   "execution_count": 12,
   "metadata": {},
   "outputs": [
    {
     "data": {
      "text/html": [
       "<div>\n",
       "<style scoped>\n",
       "    .dataframe tbody tr th:only-of-type {\n",
       "        vertical-align: middle;\n",
       "    }\n",
       "\n",
       "    .dataframe tbody tr th {\n",
       "        vertical-align: top;\n",
       "    }\n",
       "\n",
       "    .dataframe thead th {\n",
       "        text-align: right;\n",
       "    }\n",
       "</style>\n",
       "<table border=\"1\" class=\"dataframe\">\n",
       "  <thead>\n",
       "    <tr style=\"text-align: right;\">\n",
       "      <th></th>\n",
       "      <th>device_id</th>\n",
       "      <th>direction</th>\n",
       "      <th>trip_count</th>\n",
       "    </tr>\n",
       "  </thead>\n",
       "  <tbody>\n",
       "    <tr>\n",
       "      <th>0</th>\n",
       "      <td>0</td>\n",
       "      <td>E</td>\n",
       "      <td>11</td>\n",
       "    </tr>\n",
       "    <tr>\n",
       "      <th>1</th>\n",
       "      <td>0</td>\n",
       "      <td>W</td>\n",
       "      <td>9</td>\n",
       "    </tr>\n",
       "    <tr>\n",
       "      <th>2</th>\n",
       "      <td>1</td>\n",
       "      <td>E</td>\n",
       "      <td>1</td>\n",
       "    </tr>\n",
       "    <tr>\n",
       "      <th>3</th>\n",
       "      <td>1</td>\n",
       "      <td>W</td>\n",
       "      <td>1</td>\n",
       "    </tr>\n",
       "    <tr>\n",
       "      <th>4</th>\n",
       "      <td>2</td>\n",
       "      <td>E</td>\n",
       "      <td>11</td>\n",
       "    </tr>\n",
       "  </tbody>\n",
       "</table>\n",
       "</div>"
      ],
      "text/plain": [
       "   device_id direction  trip_count\n",
       "0          0         E          11\n",
       "1          0         W           9\n",
       "2          1         E           1\n",
       "3          1         W           1\n",
       "4          2         E          11"
      ]
     },
     "execution_count": 12,
     "metadata": {},
     "output_type": "execute_result"
    }
   ],
   "source": [
    "df_device=pd.DataFrame(dfcount.groupby(['device_id','direction'])['sequence'].count())\n",
    "df_device.rename(columns={\"sequence\": \"trip_count\"},inplace=True)\n",
    "df_device.reset_index(inplace=True)\n",
    "df_device.head()"
   ]
  },
  {
   "cell_type": "code",
   "execution_count": 14,
   "metadata": {},
   "outputs": [
    {
     "data": {
      "image/png": "[encoded data removed]",
      "text/plain": [
       "<Figure size 720x432 with 2 Axes>"
      ]
     },
     "metadata": {
      "needs_background": "light"
     },
     "output_type": "display_data"
    }
   ],
   "source": [
    "# directly plot # trips for each device\n",
    "\n",
    "import matplotlib.pyplot as plt\n",
    "\n",
    "fig, axs = plt.subplots(2,figsize=(10,6))\n",
    "fig.suptitle('Distribution of number of trips', fontsize=16)\n",
    "\n",
    "# plot west facing board\n",
    "axs[0].bar(df_device['device_id'][df_device['direction']=='E'],df_device['trip_count'][df_device['direction']=='E'],color='r', label='West facing billboard')\n",
    "axs[0].axis([0, 430, 0, 35])\n",
    "axs[0].tick_params(axis='both', which='major', labelsize=10)\n",
    "#axs[0].set_xlabel('Device ID', fontsize=20)\n",
    "axs[0].set_ylabel('Number of trips', fontsize=12)\n",
    "axs[0].spines['top'].set_visible(False)\n",
    "axs[0].spines['right'].set_visible(False)\n",
    "axs[0].legend(fontsize=12,loc='upper center')\n",
    "\n",
    "# plot east facing board\n",
    "axs[1].bar(df_device['device_id'][df_device['direction']=='W'],df_device['trip_count'][df_device['direction']=='W'],color='b', label='East facing billboard')\n",
    "axs[1].axis([0, 430, 0, 35])\n",
    "axs[1].tick_params(axis='both', which='major', labelsize=10)\n",
    "axs[1].set_xlabel('Device ID', fontsize=12)\n",
    "axs[1].set_ylabel('Number of trips', fontsize=12)\n",
    "axs[1].spines['top'].set_visible(False)\n",
    "axs[1].spines['right'].set_visible(False)\n",
    "axs[1].legend(fontsize=12,loc='upper center')\n",
    "\n",
    "plt.show()"
   ]
  },
  {
   "cell_type": "markdown",
   "metadata": {},
   "source": [
    "### However this doesn't give much information. \n",
    "### Actually device id is not important rather the distribution of the number makes more sense. So I use boxplot to visualize the distribution of number of trips per device. Alternatively histogram can also be applied for the same purpose.\n"
   ]
  },
  {
   "cell_type": "code",
   "execution_count": 15,
   "metadata": {},
   "outputs": [
    {
     "data": {
      "image/png": "[encoded data removed]",
      "text/plain": [
       "<Figure size 720x432 with 1 Axes>"
      ]
     },
     "metadata": {
      "needs_background": "light"
     },
     "output_type": "display_data"
    }
   ],
   "source": [
    "import seaborn as sns\n",
    "plt.figure(figsize=(10, 6))\n",
    "bx = sns.boxplot(y='trip_count', x='direction', \n",
    "                 data=df_device, \n",
    "                 width=0.3,\n",
    "                 )\n",
    "bx.axes.set_title(\"Distribution of trips per device\",fontsize=15)\n",
    "bx.set_xlabel(\"Direction of travel\",fontsize=13)\n",
    "bx.set_ylabel(\"Number of trips\",fontsize=13)\n",
    "bx.tick_params(labelsize=11)\n",
    "bx.spines['top'].set_visible(False)\n",
    "bx.spines['right'].set_visible(False)\n",
    "\n"
   ]
  },
  {
   "cell_type": "markdown",
   "metadata": {},
   "source": [
    "### Trips are dominated by \"occasionally\" passed by devices, which is beneficial because the billboards are exposed to more people\n",
    "### Upper outliers are frequent travellers, presumably residents nearby commuting to work."
   ]
  },
  {
   "cell_type": "markdown",
   "metadata": {},
   "source": [
    "# Q2"
   ]
  },
  {
   "cell_type": "code",
   "execution_count": 16,
   "metadata": {},
   "outputs": [],
   "source": [
    "pd.set_option('display.max_colwidth', -1)\n",
    "df_day=dfcount  # assign to another dataframe"
   ]
  },
  {
   "cell_type": "code",
   "execution_count": 17,
   "metadata": {},
   "outputs": [
    {
     "data": {
      "text/html": [
       "<div>\n",
       "<style scoped>\n",
       "    .dataframe tbody tr th:only-of-type {\n",
       "        vertical-align: middle;\n",
       "    }\n",
       "\n",
       "    .dataframe tbody tr th {\n",
       "        vertical-align: top;\n",
       "    }\n",
       "\n",
       "    .dataframe thead th {\n",
       "        text-align: right;\n",
       "    }\n",
       "</style>\n",
       "<table border=\"1\" class=\"dataframe\">\n",
       "  <thead>\n",
       "    <tr style=\"text-align: right;\">\n",
       "      <th></th>\n",
       "      <th>device_id</th>\n",
       "      <th>direction</th>\n",
       "      <th>distance</th>\n",
       "      <th>sequence</th>\n",
       "      <th>time_of_day</th>\n",
       "      <th>time_spent</th>\n",
       "      <th>velocity</th>\n",
       "      <th>start</th>\n",
       "      <th>end</th>\n",
       "    </tr>\n",
       "  </thead>\n",
       "  <tbody>\n",
       "    <tr>\n",
       "      <th>0</th>\n",
       "      <td>0</td>\n",
       "      <td>E</td>\n",
       "      <td>-369.846</td>\n",
       "      <td>[-1, 1]</td>\n",
       "      <td>2018-10-01 17:38:51.500000+00:00</td>\n",
       "      <td>17</td>\n",
       "      <td>-78.3203</td>\n",
       "      <td>2018-10-01 17:39:00+00:00</td>\n",
       "      <td>2018-10-01 17:39:17+00:00</td>\n",
       "    </tr>\n",
       "    <tr>\n",
       "      <th>1</th>\n",
       "      <td>0</td>\n",
       "      <td>W</td>\n",
       "      <td>353.789</td>\n",
       "      <td>[1, -1]</td>\n",
       "      <td>2018-10-01 17:56:46.500000+00:00</td>\n",
       "      <td>15</td>\n",
       "      <td>84.9092</td>\n",
       "      <td>2018-10-01 17:56:54+00:00</td>\n",
       "      <td>2018-10-01 17:57:09+00:00</td>\n",
       "    </tr>\n",
       "    <tr>\n",
       "      <th>2</th>\n",
       "      <td>0</td>\n",
       "      <td>E</td>\n",
       "      <td>-544.586</td>\n",
       "      <td>[-1, 1]</td>\n",
       "      <td>2018-10-02 17:35:29+00:00</td>\n",
       "      <td>26</td>\n",
       "      <td>-75.4042</td>\n",
       "      <td>2018-10-02 17:35:42+00:00</td>\n",
       "      <td>2018-10-02 17:36:08+00:00</td>\n",
       "    </tr>\n",
       "    <tr>\n",
       "      <th>3</th>\n",
       "      <td>0</td>\n",
       "      <td>W</td>\n",
       "      <td>1061.39</td>\n",
       "      <td>[1, 0, -1]</td>\n",
       "      <td>2018-10-02 18:11:29.500000+00:00</td>\n",
       "      <td>77</td>\n",
       "      <td>49.6234</td>\n",
       "      <td>2018-10-02 18:12:08+00:00</td>\n",
       "      <td>2018-10-02 18:13:25+00:00</td>\n",
       "    </tr>\n",
       "    <tr>\n",
       "      <th>4</th>\n",
       "      <td>0</td>\n",
       "      <td>E</td>\n",
       "      <td>-173.231</td>\n",
       "      <td>[-1, 1]</td>\n",
       "      <td>2018-10-04 23:55:32+00:00</td>\n",
       "      <td>12</td>\n",
       "      <td>-51.9693</td>\n",
       "      <td>2018-10-04 23:55:38+00:00</td>\n",
       "      <td>2018-10-04 23:55:50+00:00</td>\n",
       "    </tr>\n",
       "  </tbody>\n",
       "</table>\n",
       "</div>"
      ],
      "text/plain": [
       "  device_id direction distance    sequence                      time_of_day  \\\n",
       "0  0         E        -369.846  [-1, 1]    2018-10-01 17:38:51.500000+00:00   \n",
       "1  0         W         353.789  [1, -1]    2018-10-01 17:56:46.500000+00:00   \n",
       "2  0         E        -544.586  [-1, 1]    2018-10-02 17:35:29+00:00          \n",
       "3  0         W         1061.39  [1, 0, -1] 2018-10-02 18:11:29.500000+00:00   \n",
       "4  0         E        -173.231  [-1, 1]    2018-10-04 23:55:32+00:00          \n",
       "\n",
       "  time_spent velocity                     start                       end  \n",
       "0  17        -78.3203 2018-10-01 17:39:00+00:00 2018-10-01 17:39:17+00:00  \n",
       "1  15         84.9092 2018-10-01 17:56:54+00:00 2018-10-01 17:57:09+00:00  \n",
       "2  26        -75.4042 2018-10-02 17:35:42+00:00 2018-10-02 17:36:08+00:00  \n",
       "3  77         49.6234 2018-10-02 18:12:08+00:00 2018-10-02 18:13:25+00:00  \n",
       "4  12        -51.9693 2018-10-04 23:55:38+00:00 2018-10-04 23:55:50+00:00  "
      ]
     },
     "execution_count": 17,
     "metadata": {},
     "output_type": "execute_result"
    }
   ],
   "source": [
    "df_day['start']=df_day.apply(lambda x: x['time_of_day'][0],axis=1)\n",
    "df_day['end']=df_day.apply(lambda x: x['time_of_day'][1],axis=1)\n",
    "\n",
    "# convert strings to timestamps\n",
    "df_day['start']=pd.to_datetime(df_day['start'])\n",
    "df_day['end']=pd.to_datetime(df_day['end'])\n",
    "\n",
    "# Assumption: center of the time interval travelling through the sequence is the time the device past the billboard\n",
    "df_day['time_of_day']=df_day.apply(lambda x: x['start']+(x['start']-x['end'])/2, axis=1)\n",
    "df_day.head()"
   ]
  },
  {
   "cell_type": "code",
   "execution_count": 18,
   "metadata": {},
   "outputs": [
    {
     "data": {
      "text/html": [
       "<div>\n",
       "<style scoped>\n",
       "    .dataframe tbody tr th:only-of-type {\n",
       "        vertical-align: middle;\n",
       "    }\n",
       "\n",
       "    .dataframe tbody tr th {\n",
       "        vertical-align: top;\n",
       "    }\n",
       "\n",
       "    .dataframe thead th {\n",
       "        text-align: right;\n",
       "    }\n",
       "</style>\n",
       "<table border=\"1\" class=\"dataframe\">\n",
       "  <thead>\n",
       "    <tr style=\"text-align: right;\">\n",
       "      <th></th>\n",
       "      <th>device_id</th>\n",
       "      <th>direction</th>\n",
       "      <th>distance</th>\n",
       "      <th>sequence</th>\n",
       "      <th>time_of_day</th>\n",
       "      <th>time_spent</th>\n",
       "      <th>velocity</th>\n",
       "      <th>start</th>\n",
       "      <th>end</th>\n",
       "      <th>crossing_time</th>\n",
       "    </tr>\n",
       "  </thead>\n",
       "  <tbody>\n",
       "    <tr>\n",
       "      <th>0</th>\n",
       "      <td>0</td>\n",
       "      <td>E</td>\n",
       "      <td>-369.846</td>\n",
       "      <td>[-1, 1]</td>\n",
       "      <td>2018-10-01 17:38:51.500000+00:00</td>\n",
       "      <td>17</td>\n",
       "      <td>-78.3203</td>\n",
       "      <td>2018-10-01 17:39:00+00:00</td>\n",
       "      <td>2018-10-01 17:39:17+00:00</td>\n",
       "      <td>2018-10-01 10:38:51.500000-07:00</td>\n",
       "    </tr>\n",
       "    <tr>\n",
       "      <th>1</th>\n",
       "      <td>0</td>\n",
       "      <td>W</td>\n",
       "      <td>353.789</td>\n",
       "      <td>[1, -1]</td>\n",
       "      <td>2018-10-01 17:56:46.500000+00:00</td>\n",
       "      <td>15</td>\n",
       "      <td>84.9092</td>\n",
       "      <td>2018-10-01 17:56:54+00:00</td>\n",
       "      <td>2018-10-01 17:57:09+00:00</td>\n",
       "      <td>2018-10-01 10:56:46.500000-07:00</td>\n",
       "    </tr>\n",
       "    <tr>\n",
       "      <th>2</th>\n",
       "      <td>0</td>\n",
       "      <td>E</td>\n",
       "      <td>-544.586</td>\n",
       "      <td>[-1, 1]</td>\n",
       "      <td>2018-10-02 17:35:29+00:00</td>\n",
       "      <td>26</td>\n",
       "      <td>-75.4042</td>\n",
       "      <td>2018-10-02 17:35:42+00:00</td>\n",
       "      <td>2018-10-02 17:36:08+00:00</td>\n",
       "      <td>2018-10-02 10:35:29-07:00</td>\n",
       "    </tr>\n",
       "    <tr>\n",
       "      <th>3</th>\n",
       "      <td>0</td>\n",
       "      <td>W</td>\n",
       "      <td>1061.39</td>\n",
       "      <td>[1, 0, -1]</td>\n",
       "      <td>2018-10-02 18:11:29.500000+00:00</td>\n",
       "      <td>77</td>\n",
       "      <td>49.6234</td>\n",
       "      <td>2018-10-02 18:12:08+00:00</td>\n",
       "      <td>2018-10-02 18:13:25+00:00</td>\n",
       "      <td>2018-10-02 11:11:29.500000-07:00</td>\n",
       "    </tr>\n",
       "    <tr>\n",
       "      <th>4</th>\n",
       "      <td>0</td>\n",
       "      <td>E</td>\n",
       "      <td>-173.231</td>\n",
       "      <td>[-1, 1]</td>\n",
       "      <td>2018-10-04 23:55:32+00:00</td>\n",
       "      <td>12</td>\n",
       "      <td>-51.9693</td>\n",
       "      <td>2018-10-04 23:55:38+00:00</td>\n",
       "      <td>2018-10-04 23:55:50+00:00</td>\n",
       "      <td>2018-10-04 16:55:32-07:00</td>\n",
       "    </tr>\n",
       "  </tbody>\n",
       "</table>\n",
       "</div>"
      ],
      "text/plain": [
       "  device_id direction distance    sequence                      time_of_day  \\\n",
       "0  0         E        -369.846  [-1, 1]    2018-10-01 17:38:51.500000+00:00   \n",
       "1  0         W         353.789  [1, -1]    2018-10-01 17:56:46.500000+00:00   \n",
       "2  0         E        -544.586  [-1, 1]    2018-10-02 17:35:29+00:00          \n",
       "3  0         W         1061.39  [1, 0, -1] 2018-10-02 18:11:29.500000+00:00   \n",
       "4  0         E        -173.231  [-1, 1]    2018-10-04 23:55:32+00:00          \n",
       "\n",
       "  time_spent velocity                     start                       end  \\\n",
       "0  17        -78.3203 2018-10-01 17:39:00+00:00 2018-10-01 17:39:17+00:00   \n",
       "1  15         84.9092 2018-10-01 17:56:54+00:00 2018-10-01 17:57:09+00:00   \n",
       "2  26        -75.4042 2018-10-02 17:35:42+00:00 2018-10-02 17:36:08+00:00   \n",
       "3  77         49.6234 2018-10-02 18:12:08+00:00 2018-10-02 18:13:25+00:00   \n",
       "4  12        -51.9693 2018-10-04 23:55:38+00:00 2018-10-04 23:55:50+00:00   \n",
       "\n",
       "                     crossing_time  \n",
       "0 2018-10-01 10:38:51.500000-07:00  \n",
       "1 2018-10-01 10:56:46.500000-07:00  \n",
       "2 2018-10-02 10:35:29-07:00         \n",
       "3 2018-10-02 11:11:29.500000-07:00  \n",
       "4 2018-10-04 16:55:32-07:00         "
      ]
     },
     "execution_count": 18,
     "metadata": {},
     "output_type": "execute_result"
    }
   ],
   "source": [
    "# convert UTC time to local time. The timezone was determined by locating the coordinate on Google map. \n",
    "\n",
    "import pytz\n",
    "tz = pytz.timezone('America/Vancouver')\n",
    "df_day['crossing_time']=df_day.apply(lambda x: x['time_of_day'].astimezone(tz), axis=1)\n",
    "\n",
    "df_day.head()"
   ]
  },
  {
   "cell_type": "code",
   "execution_count": 19,
   "metadata": {},
   "outputs": [],
   "source": [
    "# extracting information on day and hour\n",
    "df_day=df_day.loc[:,['device_id','direction','crossing_time']]\n",
    "df_day['day']=df_day['crossing_time'].dt.date\n",
    "df_day['hour']=df_day['crossing_time'].dt.hour\n",
    "df_day.drop(['crossing_time'],axis=1, inplace=True)\n",
    "df_day=df_day.sort_values(by=['direction','day','hour'])"
   ]
  },
  {
   "cell_type": "code",
   "execution_count": 20,
   "metadata": {},
   "outputs": [
    {
     "data": {
      "text/html": [
       "<div>\n",
       "<style scoped>\n",
       "    .dataframe tbody tr th:only-of-type {\n",
       "        vertical-align: middle;\n",
       "    }\n",
       "\n",
       "    .dataframe tbody tr th {\n",
       "        vertical-align: top;\n",
       "    }\n",
       "\n",
       "    .dataframe thead th {\n",
       "        text-align: right;\n",
       "    }\n",
       "</style>\n",
       "<table border=\"1\" class=\"dataframe\">\n",
       "  <thead>\n",
       "    <tr style=\"text-align: right;\">\n",
       "      <th></th>\n",
       "      <th>direction</th>\n",
       "      <th>day</th>\n",
       "      <th>hour</th>\n",
       "      <th>trip_count</th>\n",
       "    </tr>\n",
       "  </thead>\n",
       "  <tbody>\n",
       "    <tr>\n",
       "      <th>0</th>\n",
       "      <td>E</td>\n",
       "      <td>2018-09-30</td>\n",
       "      <td>19</td>\n",
       "      <td>2</td>\n",
       "    </tr>\n",
       "    <tr>\n",
       "      <th>1</th>\n",
       "      <td>E</td>\n",
       "      <td>2018-10-01</td>\n",
       "      <td>5</td>\n",
       "      <td>1</td>\n",
       "    </tr>\n",
       "    <tr>\n",
       "      <th>2</th>\n",
       "      <td>E</td>\n",
       "      <td>2018-10-01</td>\n",
       "      <td>6</td>\n",
       "      <td>2</td>\n",
       "    </tr>\n",
       "    <tr>\n",
       "      <th>3</th>\n",
       "      <td>E</td>\n",
       "      <td>2018-10-01</td>\n",
       "      <td>7</td>\n",
       "      <td>3</td>\n",
       "    </tr>\n",
       "    <tr>\n",
       "      <th>4</th>\n",
       "      <td>E</td>\n",
       "      <td>2018-10-01</td>\n",
       "      <td>8</td>\n",
       "      <td>10</td>\n",
       "    </tr>\n",
       "  </tbody>\n",
       "</table>\n",
       "</div>"
      ],
      "text/plain": [
       "  direction         day  hour  trip_count\n",
       "0  E         2018-09-30  19    2         \n",
       "1  E         2018-10-01  5     1         \n",
       "2  E         2018-10-01  6     2         \n",
       "3  E         2018-10-01  7     3         \n",
       "4  E         2018-10-01  8     10        "
      ]
     },
     "execution_count": 20,
     "metadata": {},
     "output_type": "execute_result"
    }
   ],
   "source": [
    "# count #trips per day for each board\n",
    "df_day_count=pd.DataFrame(df_day.groupby(['direction','day','hour'])['device_id'].count())\n",
    "df_day_count.reset_index(inplace=True)\n",
    "df_day_count.rename(columns={\"device_id\": \"trip_count\"},inplace=True)\n",
    "df_day_count.head()"
   ]
  },
  {
   "cell_type": "code",
   "execution_count": 21,
   "metadata": {},
   "outputs": [],
   "source": [
    "# Split into two dataframe for each direction for simplicity\n",
    "# Days in September are removed because it might be incomplete.\n",
    "df_day_E= df_day_count[df_day_count['direction']=='E'].reset_index(drop=True).loc[1:,:]\n",
    "df_day_W= df_day_count[df_day_count['direction']=='W'].reset_index(drop=True).loc[3:,:]"
   ]
  },
  {
   "cell_type": "code",
   "execution_count": 22,
   "metadata": {},
   "outputs": [
    {
     "data": {
      "text/html": [
       "<div>\n",
       "<style scoped>\n",
       "    .dataframe tbody tr th:only-of-type {\n",
       "        vertical-align: middle;\n",
       "    }\n",
       "\n",
       "    .dataframe tbody tr th {\n",
       "        vertical-align: top;\n",
       "    }\n",
       "\n",
       "    .dataframe thead th {\n",
       "        text-align: right;\n",
       "    }\n",
       "</style>\n",
       "<table border=\"1\" class=\"dataframe\">\n",
       "  <thead>\n",
       "    <tr style=\"text-align: right;\">\n",
       "      <th></th>\n",
       "      <th>direction</th>\n",
       "      <th>day</th>\n",
       "      <th>hour</th>\n",
       "      <th>trip_count</th>\n",
       "    </tr>\n",
       "  </thead>\n",
       "  <tbody>\n",
       "    <tr>\n",
       "      <th>1</th>\n",
       "      <td>E</td>\n",
       "      <td>2018-10-01</td>\n",
       "      <td>5</td>\n",
       "      <td>1</td>\n",
       "    </tr>\n",
       "    <tr>\n",
       "      <th>2</th>\n",
       "      <td>E</td>\n",
       "      <td>2018-10-01</td>\n",
       "      <td>6</td>\n",
       "      <td>2</td>\n",
       "    </tr>\n",
       "    <tr>\n",
       "      <th>3</th>\n",
       "      <td>E</td>\n",
       "      <td>2018-10-01</td>\n",
       "      <td>7</td>\n",
       "      <td>3</td>\n",
       "    </tr>\n",
       "    <tr>\n",
       "      <th>4</th>\n",
       "      <td>E</td>\n",
       "      <td>2018-10-01</td>\n",
       "      <td>8</td>\n",
       "      <td>10</td>\n",
       "    </tr>\n",
       "    <tr>\n",
       "      <th>5</th>\n",
       "      <td>E</td>\n",
       "      <td>2018-10-01</td>\n",
       "      <td>9</td>\n",
       "      <td>2</td>\n",
       "    </tr>\n",
       "  </tbody>\n",
       "</table>\n",
       "</div>"
      ],
      "text/plain": [
       "  direction         day  hour  trip_count\n",
       "1  E         2018-10-01  5     1         \n",
       "2  E         2018-10-01  6     2         \n",
       "3  E         2018-10-01  7     3         \n",
       "4  E         2018-10-01  8     10        \n",
       "5  E         2018-10-01  9     2         "
      ]
     },
     "execution_count": 22,
     "metadata": {},
     "output_type": "execute_result"
    }
   ],
   "source": [
    "df_day_E.head()"
   ]
  },
  {
   "cell_type": "code",
   "execution_count": 23,
   "metadata": {},
   "outputs": [
    {
     "data": {
      "text/html": [
       "<div>\n",
       "<style scoped>\n",
       "    .dataframe tbody tr th:only-of-type {\n",
       "        vertical-align: middle;\n",
       "    }\n",
       "\n",
       "    .dataframe tbody tr th {\n",
       "        vertical-align: top;\n",
       "    }\n",
       "\n",
       "    .dataframe thead th {\n",
       "        text-align: right;\n",
       "    }\n",
       "</style>\n",
       "<table border=\"1\" class=\"dataframe\">\n",
       "  <thead>\n",
       "    <tr style=\"text-align: right;\">\n",
       "      <th></th>\n",
       "      <th>direction</th>\n",
       "      <th>day</th>\n",
       "      <th>hour</th>\n",
       "      <th>trip_count</th>\n",
       "    </tr>\n",
       "  </thead>\n",
       "  <tbody>\n",
       "    <tr>\n",
       "      <th>3</th>\n",
       "      <td>W</td>\n",
       "      <td>2018-10-01</td>\n",
       "      <td>8</td>\n",
       "      <td>6</td>\n",
       "    </tr>\n",
       "    <tr>\n",
       "      <th>4</th>\n",
       "      <td>W</td>\n",
       "      <td>2018-10-01</td>\n",
       "      <td>9</td>\n",
       "      <td>1</td>\n",
       "    </tr>\n",
       "    <tr>\n",
       "      <th>5</th>\n",
       "      <td>W</td>\n",
       "      <td>2018-10-01</td>\n",
       "      <td>10</td>\n",
       "      <td>2</td>\n",
       "    </tr>\n",
       "    <tr>\n",
       "      <th>6</th>\n",
       "      <td>W</td>\n",
       "      <td>2018-10-01</td>\n",
       "      <td>12</td>\n",
       "      <td>2</td>\n",
       "    </tr>\n",
       "    <tr>\n",
       "      <th>7</th>\n",
       "      <td>W</td>\n",
       "      <td>2018-10-01</td>\n",
       "      <td>14</td>\n",
       "      <td>3</td>\n",
       "    </tr>\n",
       "  </tbody>\n",
       "</table>\n",
       "</div>"
      ],
      "text/plain": [
       "  direction         day  hour  trip_count\n",
       "3  W         2018-10-01  8     6         \n",
       "4  W         2018-10-01  9     1         \n",
       "5  W         2018-10-01  10    2         \n",
       "6  W         2018-10-01  12    2         \n",
       "7  W         2018-10-01  14    3         "
      ]
     },
     "execution_count": 23,
     "metadata": {},
     "output_type": "execute_result"
    }
   ],
   "source": [
    "df_day_W.head()"
   ]
  },
  {
   "cell_type": "code",
   "execution_count": 24,
   "metadata": {},
   "outputs": [],
   "source": [
    "# Calculate number of trips for each hour averaged over the whole month\n",
    "\n",
    "day_E=pd.DataFrame(df_day_E.groupby(['hour'])['trip_count'].sum()/31).reset_index()\n",
    "day_W=pd.DataFrame(df_day_W.groupby(['hour'])['trip_count'].sum()/31).reset_index()"
   ]
  },
  {
   "cell_type": "code",
   "execution_count": 25,
   "metadata": {},
   "outputs": [
    {
     "data": {
      "text/plain": [
       "<function matplotlib.pyplot.show(*args, **kw)>"
      ]
     },
     "execution_count": 25,
     "metadata": {},
     "output_type": "execute_result"
    },
    {
     "data": {
      "image/png": "[encoded data removed]",
      "text/plain": [
       "<Figure size 720x432 with 1 Axes>"
      ]
     },
     "metadata": {
      "needs_background": "light"
     },
     "output_type": "display_data"
    }
   ],
   "source": [
    "plt.figure(figsize=(10, 6))\n",
    "\n",
    "plt.plot(day_E['hour'],day_E['trip_count'], color='red', label='Travel East')\n",
    "plt.plot(day_W['hour'],day_W['trip_count'], color = 'blue', label = 'Travel West')\n",
    "\n",
    "plt.axis([0, 24, 0, 5])\n",
    "\n",
    "plt.xlabel('Hours', fontsize=12)\n",
    "plt.ylabel('Number of trips',fontsize=12)\n",
    "plt.tick_params(labelsize=10)\n",
    "plt.xticks(np.arange(0,25,1))\n",
    "plt.title('Hour of day distribution of trips', fontsize=14)\n",
    "plt.legend(fontsize=12)\n",
    "\n",
    "plt.grid(False)\n",
    "plt.show"
   ]
  },
  {
   "cell_type": "markdown",
   "metadata": {},
   "source": [
    "### Peak hours are in day time. For westward traveller, around 5 p.m is the peak hour. For eastward traveller, around 3 p.m is the peak hour."
   ]
  },
  {
   "cell_type": "markdown",
   "metadata": {},
   "source": [
    "# Q3\n",
    "### Velocity is calculated as total distance travelled divided by the total time spent for each sequence that considered past the billboard (in dataframe \"dfcount\"). Negative values are caused by the direction. The detailed calculation could be found in the create_count function above."
   ]
  },
  {
   "cell_type": "code",
   "execution_count": 28,
   "metadata": {},
   "outputs": [
    {
     "data": {
      "image/png": "[encoded data removed]",
      "text/plain": [
       "<Figure size 720x432 with 1 Axes>"
      ]
     },
     "metadata": {
      "needs_background": "light"
     },
     "output_type": "display_data"
    }
   ],
   "source": [
    "plt.figure(figsize=(10, 6))\n",
    "dfcount['velocity']=dfcount['velocity'].astype(float)\n",
    "bx = sns.boxplot(y='velocity', x='direction', \n",
    "                 data=dfcount, \n",
    "                 width=0.3,\n",
    "                 )\n",
    "bx.axes.set_title(\"Distribution of velocity\",fontsize=15)\n",
    "bx.set_xlabel(\"Direction of travel\",fontsize=13)\n",
    "bx.set_ylabel(\"Velocity\",fontsize=13)\n",
    "bx.set_ylim([-120,120])\n",
    "bx.tick_params(labelsize=11)\n",
    "bx.spines['top'].set_visible(False)\n",
    "bx.spines['right'].set_visible(False)\n"
   ]
  },
  {
   "cell_type": "markdown",
   "metadata": {},
   "source": [
    "### From the boxplot, we could see that velocities higher than 100km/h and lower than 20 are considered outliers. This is not only because statistics tell us that but also common knowledge for car speed on a regular city road. The presence of extremely high velocity is caused by the handling of zero division in the creat_count function and is excluded from the plot."
   ]
  },
  {
   "cell_type": "code",
   "execution_count": 29,
   "metadata": {},
   "outputs": [
    {
     "data": {
      "text/plain": [
       "<matplotlib.legend.Legend at 0x1a196d9c88>"
      ]
     },
     "execution_count": 29,
     "metadata": {},
     "output_type": "execute_result"
    },
    {
     "data": {
      "image/png": "[encoded data removed]",
      "text/plain": [
       "<Figure size 1008x432 with 2 Axes>"
      ]
     },
     "metadata": {
      "needs_background": "light"
     },
     "output_type": "display_data"
    }
   ],
   "source": [
    "fig, axs = plt.subplots(1,2, figsize=(14,6))\n",
    "fig.suptitle('Distribution of velocity', fontsize=16)\n",
    "sns.distplot(dfcount[dfcount['direction']=='E']['velocity'], color=\"blue\", ax=axs[0])\n",
    "sns.distplot(dfcount[dfcount['direction']=='W']['velocity'], color=\"red\", ax=axs[1])\n",
    "\n",
    "axs[0].set(xlim=(-100, -20))\n",
    "axs[0].set_xlabel(\"Velocity (km/h)\",fontsize=13)\n",
    "axs[0].tick_params(labelsize=11)\n",
    "axs[0].spines['top'].set_visible(False)\n",
    "axs[0].spines['right'].set_visible(False)\n",
    "plt.legend(loc='upper left', labels=['Eastward'])\n",
    "\n",
    "axs[1].set(xlim=(20, 100))\n",
    "axs[1].set_xlabel(\"Velocity (km/h)\",fontsize=13)\n",
    "axs[1].tick_params(labelsize=11)\n",
    "axs[1].spines['top'].set_visible(False)\n",
    "axs[1].spines['right'].set_visible(False)\n",
    "plt.legend(loc='upper right', labels=['Westward'])"
   ]
  },
  {
   "cell_type": "markdown",
   "metadata": {},
   "source": [
    "### A peak at low speed towards zero can be explained by either walking devices or traffic jams. Since they are minor cases in this example, they are also considered as outliers.\n",
    "### Other than the outliers, the distribution is as expected as normally distributed for both directions."
   ]
  },
  {
   "cell_type": "markdown",
   "metadata": {},
   "source": [
    "# Q4\n",
    "### Since the uncertainty of the GPS coordinates is only in y-direction (northing), the uncertainty actually means the device is not travelling on the targeted road but a parell road instead."
   ]
  },
  {
   "cell_type": "code",
   "execution_count": 30,
   "metadata": {},
   "outputs": [
    {
     "data": {
      "text/html": [
       "<div>\n",
       "<style scoped>\n",
       "    .dataframe tbody tr th:only-of-type {\n",
       "        vertical-align: middle;\n",
       "    }\n",
       "\n",
       "    .dataframe tbody tr th {\n",
       "        vertical-align: top;\n",
       "    }\n",
       "\n",
       "    .dataframe thead th {\n",
       "        text-align: right;\n",
       "    }\n",
       "</style>\n",
       "<table border=\"1\" class=\"dataframe\">\n",
       "  <thead>\n",
       "    <tr style=\"text-align: right;\">\n",
       "      <th></th>\n",
       "      <th>lat</th>\n",
       "      <th>long</th>\n",
       "      <th>event_ts</th>\n",
       "      <th>poi_lat</th>\n",
       "      <th>poi_long</th>\n",
       "      <th>poi_name</th>\n",
       "      <th>poi_sequence</th>\n",
       "      <th>device_id</th>\n",
       "      <th>y_div</th>\n",
       "    </tr>\n",
       "  </thead>\n",
       "  <tbody>\n",
       "    <tr>\n",
       "      <th>0</th>\n",
       "      <td>49.031128</td>\n",
       "      <td>-122.834470</td>\n",
       "      <td>2018-10-01 17:38:20 UTC</td>\n",
       "      <td>49.031193</td>\n",
       "      <td>-122.829585</td>\n",
       "      <td>7_1</td>\n",
       "      <td>-1</td>\n",
       "      <td>0</td>\n",
       "      <td>-8.002491</td>\n",
       "    </tr>\n",
       "    <tr>\n",
       "      <th>1</th>\n",
       "      <td>49.031250</td>\n",
       "      <td>-122.830660</td>\n",
       "      <td>2018-10-01 17:38:41 UTC</td>\n",
       "      <td>49.031193</td>\n",
       "      <td>-122.829585</td>\n",
       "      <td>7_1</td>\n",
       "      <td>-1</td>\n",
       "      <td>0</td>\n",
       "      <td>6.174252</td>\n",
       "    </tr>\n",
       "    <tr>\n",
       "      <th>2</th>\n",
       "      <td>49.031250</td>\n",
       "      <td>-122.830660</td>\n",
       "      <td>2018-10-01 17:38:42 UTC</td>\n",
       "      <td>49.031193</td>\n",
       "      <td>-122.829585</td>\n",
       "      <td>7_1</td>\n",
       "      <td>-1</td>\n",
       "      <td>0</td>\n",
       "      <td>6.174252</td>\n",
       "    </tr>\n",
       "    <tr>\n",
       "      <th>3</th>\n",
       "      <td>49.031250</td>\n",
       "      <td>-122.830605</td>\n",
       "      <td>2018-10-01 17:38:44 UTC</td>\n",
       "      <td>49.031193</td>\n",
       "      <td>-122.829585</td>\n",
       "      <td>7_1</td>\n",
       "      <td>-1</td>\n",
       "      <td>0</td>\n",
       "      <td>6.183225</td>\n",
       "    </tr>\n",
       "    <tr>\n",
       "      <th>4</th>\n",
       "      <td>49.031250</td>\n",
       "      <td>-122.829180</td>\n",
       "      <td>2018-10-01 17:38:49 UTC</td>\n",
       "      <td>49.031193</td>\n",
       "      <td>-122.829585</td>\n",
       "      <td>7_1</td>\n",
       "      <td>-1</td>\n",
       "      <td>0</td>\n",
       "      <td>6.416733</td>\n",
       "    </tr>\n",
       "  </tbody>\n",
       "</table>\n",
       "</div>"
      ],
      "text/plain": [
       "         lat        long                 event_ts    poi_lat    poi_long  \\\n",
       "0  49.031128 -122.834470  2018-10-01 17:38:20 UTC  49.031193 -122.829585   \n",
       "1  49.031250 -122.830660  2018-10-01 17:38:41 UTC  49.031193 -122.829585   \n",
       "2  49.031250 -122.830660  2018-10-01 17:38:42 UTC  49.031193 -122.829585   \n",
       "3  49.031250 -122.830605  2018-10-01 17:38:44 UTC  49.031193 -122.829585   \n",
       "4  49.031250 -122.829180  2018-10-01 17:38:49 UTC  49.031193 -122.829585   \n",
       "\n",
       "  poi_name  poi_sequence  device_id     y_div  \n",
       "0  7_1     -1             0         -8.002491  \n",
       "1  7_1     -1             0          6.174252  \n",
       "2  7_1     -1             0          6.174252  \n",
       "3  7_1     -1             0          6.183225  \n",
       "4  7_1     -1             0          6.416733  "
      ]
     },
     "execution_count": 30,
     "metadata": {},
     "output_type": "execute_result"
    }
   ],
   "source": [
    "# Calculation of distance on y direction between the recorded gps coordinates and center of road position\n",
    "df['y_div']=df.apply(lambda x: utm.from_latlon(x['lat'],x['long'])[1]-utm.from_latlon(x['poi_lat'],x['poi_long'])[1],\\\n",
    "                     axis=1)\n",
    "df.head()"
   ]
  },
  {
   "cell_type": "code",
   "execution_count": 32,
   "metadata": {},
   "outputs": [
    {
     "name": "stdout",
     "output_type": "stream",
     "text": [
      "4.21022695580194\n"
     ]
    }
   ],
   "source": [
    "# Type A estimate of the uncertainty of the measurement\n",
    "\n",
    "from statistics import mean, stdev\n",
    "#mean(df['y_div'])\n",
    "sd_records = stdev(df['y_div'])\n",
    "print(sd_records)"
   ]
  },
  {
   "cell_type": "code",
   "execution_count": 33,
   "metadata": {},
   "outputs": [
    {
     "data": {
      "text/plain": [
       "25.352041555254704"
      ]
     },
     "execution_count": 33,
     "metadata": {},
     "output_type": "execute_result"
    }
   ],
   "source": [
    "# Calculation of combined uncertainty in standard deviation:\n",
    "from math import sqrt\n",
    "Uc= sqrt(sd_records**2+(50/2)**2)   # a coverage factor of 2 is assumed to be included in the uncertainty of gps coordinate.\n",
    "Uc"
   ]
  },
  {
   "cell_type": "code",
   "execution_count": 34,
   "metadata": {},
   "outputs": [
    {
     "name": "stdout",
     "output_type": "stream",
     "text": [
      "Uncertainty:  0.6933458998393898\n"
     ]
    }
   ],
   "source": [
    "from scipy.stats import norm\n",
    "N=norm(mean(df['y_div']),Uc*2)\n",
    "print('Uncertainty: ',1-(N.cdf(20)-N.cdf(-20)))"
   ]
  },
  {
   "cell_type": "markdown",
   "metadata": {},
   "source": [
    "### The uncertainty for the number of trips and number of devices is expressed in percentage that the device might be off the road, which is 43%."
   ]
  },
  {
   "cell_type": "code",
   "execution_count": null,
   "metadata": {},
   "outputs": [],
   "source": []
  }
 ],
 "metadata": {
  "kernelspec": {
   "display_name": "Python 3",
   "language": "python",
   "name": "python3"
  },
  "language_info": {
   "codemirror_mode": {
    "name": "ipython",
    "version": 3
   },
   "file_extension": ".py",
   "mimetype": "text/x-python",
   "name": "python",
   "nbconvert_exporter": "python",
   "pygments_lexer": "ipython3",
   "version": "3.6.8"
  }
 },
 "nbformat": 4,
 "nbformat_minor": 2
}
